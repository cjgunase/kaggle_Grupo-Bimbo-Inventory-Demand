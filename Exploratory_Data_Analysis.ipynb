{
 "cells": [
  {
   "cell_type": "code",
   "execution_count": 32,
   "metadata": {
    "collapsed": false
   },
   "outputs": [],
   "source": [
    "import os\n",
    "import pandas as pd\n",
    "import numpy as np\n",
    "import matplotlib.pyplot as plt"
   ]
  },
  {
   "cell_type": "code",
   "execution_count": 2,
   "metadata": {
    "collapsed": false
   },
   "outputs": [
    {
     "name": "stdout",
     "output_type": "stream",
     "text": [
      ".DS_Store                     0.01MB\n",
      "producto_tabla.csv            0.11MB\n",
      "sample_submission-2.csv       68.88MB\n",
      "sample_submission.csv         11.7MB\n",
      "test.csv                      251.11MB\n",
      "town_state.csv                0.03MB\n",
      "train.csv                     3199.36MB\n"
     ]
    }
   ],
   "source": [
    "data_path = \"../../../Documents/data_sets/bimbo/\"\n",
    "for f in os.listdir(data_path):\n",
    "    print(f.ljust(30) + str(round(os.path.getsize(data_path + f) / 1000000, 2)) + 'MB')"
   ]
  },
  {
   "cell_type": "markdown",
   "metadata": {},
   "source": [
    "### Exprole each files content to familiarize with the data"
   ]
  },
  {
   "cell_type": "code",
   "execution_count": 30,
   "metadata": {
    "collapsed": false
   },
   "outputs": [
    {
     "name": "stdout",
     "output_type": "stream",
     "text": [
      "training data column names\n",
      "['Semana', 'Agencia_ID', 'Canal_ID', 'Ruta_SAK', 'Cliente_ID', 'Producto_ID', 'Venta_uni_hoy', 'Venta_hoy', 'Dev_uni_proxima', 'Dev_proxima', 'Demanda_uni_equil']\n",
      "\n",
      "\n",
      "test data column names\n",
      "['id', 'Semana', 'Agencia_ID', 'Canal_ID', 'Ruta_SAK', 'Cliente_ID', 'Producto_ID']\n",
      "\n",
      "\n",
      "'Demanda_uni_equil'\n"
     ]
    }
   ],
   "source": [
    "df_train = pd.read_csv(data_path+'train.csv',sep=',',nrows=500000)\n",
    "df_test = pd.read_csv(data_path+'test.csv',nrows=50000)\n",
    "\n",
    "print (\"training data column names\")\n",
    "print (str(df_train.columns.tolist()))\n",
    "\n",
    "print(\"\\n\")\n",
    "print (\"test data column names\")\n",
    "print (str(df_test.columns.tolist()))\n",
    "\n",
    "print(\"\\n\")\n",
    "\n",
    "print (\"'Demanda_uni_equil' is the column we have to predict\")\n",
    "\n",
    "\n",
    "\n",
    "\n"
   ]
  },
  {
   "cell_type": "code",
   "execution_count": null,
   "metadata": {
    "collapsed": false
   },
   "outputs": [],
   "source": [
    "\n",
    "target = df_train['Demanda_uni_equil'].tolist()\n",
    "\n",
    "def label_plot(title, x, y):\n",
    "    plt.title(title)\n",
    "    plt.xlabel(x)\n",
    "    plt.ylabel(y)\n",
    "\n",
    "plt.hist(target, bins=200, color='blue')\n",
    "label_plot('Distribution of target values', 'Demanda_uni_equil', 'Count')\n",
    "plt.show()\n",
    "\n",
    "print(\"Looks like we have some pretty big outliers, let's zoom in and try again\")\n",
    "\n",
    "print('Data with target values under 50: ' + str(round(len(df_train.loc[df_train['Demanda_uni_equil'] <= 50]) / 5000, 2)) + '%')\n",
    "\n",
    "plt.hist(target, bins=50, color='blue', range=(0, 50))\n",
    "label_plot('Distribution of target values under 50', 'Demanda_uni_equil', 'Count')\n",
    "plt.show()"
   ]
  },
  {
   "cell_type": "code",
   "execution_count": 14,
   "metadata": {
    "collapsed": false
   },
   "outputs": [
    {
     "data": {
      "text/plain": [
       "(50000, 7)"
      ]
     },
     "execution_count": 14,
     "metadata": {},
     "output_type": "execute_result"
    }
   ],
   "source": [
    "https://www.kaggle.com/anokas/grupo-bimbo-inventory-demand/exploratory-data-analysis"
   ]
  },
  {
   "cell_type": "code",
   "execution_count": null,
   "metadata": {
    "collapsed": true
   },
   "outputs": [],
   "source": []
  }
 ],
 "metadata": {
  "kernelspec": {
   "display_name": "Python 3",
   "language": "python",
   "name": "python3"
  },
  "language_info": {
   "codemirror_mode": {
    "name": "ipython",
    "version": 3
   },
   "file_extension": ".py",
   "mimetype": "text/x-python",
   "name": "python",
   "nbconvert_exporter": "python",
   "pygments_lexer": "ipython3",
   "version": "3.4.4"
  }
 },
 "nbformat": 4,
 "nbformat_minor": 0
}
